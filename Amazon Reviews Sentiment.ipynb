{
 "cells": [
  {
   "cell_type": "markdown",
   "metadata": {
    "application/vnd.databricks.v1+cell": {
     "cellMetadata": {
      "byteLimit": 2048000,
      "implicitDf": true,
      "rowLimit": 10000
     },
     "inputWidgets": {},
     "nuid": "41ca1798-a383-420d-9693-f3a2b2b59335",
     "showTitle": true,
     "tableResultSettingsMap": {},
     "title": ""
    },
    "jupyter": {
     "outputs_hidden": true
    }
   },
   "source": [
    "# Sentiment Analysis with Amazon Reviews\n",
    "\n",
    "+ Work with the open-sourced Amazon Review data-set to experiment with Sentiment Analysis on customer reviews.  \n",
    "+ Use Databricks SQL AI functions and Databricks foundation model serving enpoints.  \n",
    "+ Reference: [Databricks Blog: step-step-guide-ai-powered-customer-sentiment-analysis](https://www.databricks.com/blog/step-step-guide-ai-powered-customer-sentiment-analysis)  \n",
    "\n",
    "This example shows:\n",
    "1. Predicting the `rating` (1..5) that a customer will give a product, based on the review text\n",
    "2. Classification of the product being reviewed, based on the review text\n",
    "3. Explanation of why the classification catagegory was chosen.\n",
    "  \n",
    "Approach is to use a foundation LLM via the Databricks model serving service and query it using the SQL AI Query function.  \n",
    "A few-shot chat prompt template is used to structured the request and output."
   ]
  },
  {
   "cell_type": "markdown",
   "metadata": {
    "application/vnd.databricks.v1+cell": {
     "cellMetadata": {},
     "inputWidgets": {},
     "nuid": "67fd2d11-c358-4fa2-be45-92e7e893ade4",
     "showTitle": false,
     "tableResultSettingsMap": {},
     "title": ""
    }
   },
   "source": [
    "### Parameterize the Catalog and Schema Location\n"
   ]
  },
  {
   "cell_type": "code",
   "execution_count": 0,
   "metadata": {
    "application/vnd.databricks.v1+cell": {
     "cellMetadata": {
      "byteLimit": 2048000,
      "rowLimit": 10000
     },
     "inputWidgets": {},
     "nuid": "43fd71f0-0b56-4e40-8648-a111e7ed88b0",
     "showTitle": false,
     "tableResultSettingsMap": {},
     "title": ""
    }
   },
   "outputs": [],
   "source": [
    "dbutils.widgets.text(\"catalog\", \"users\")\n",
    "dbutils.widgets.text(\"database\", \"\")\n",
    "dbutils.widgets.text(\"table\", \"reviews\")"
   ]
  },
  {
   "cell_type": "code",
   "execution_count": 0,
   "metadata": {
    "application/vnd.databricks.v1+cell": {
     "cellMetadata": {
      "byteLimit": 2048000,
      "rowLimit": 10000
     },
     "inputWidgets": {},
     "nuid": "8b022aec-dc75-422c-ab53-aa3fad05613f",
     "showTitle": false,
     "tableResultSettingsMap": {},
     "title": ""
    }
   },
   "outputs": [],
   "source": [
    "print(\"Table location params set to\", dbutils.widgets.getAll())\n",
    "catalog = dbutils.widgets.get(\"catalog\")\n",
    "database = dbutils.widgets.get(\"database\")\n",
    "table = dbutils.widgets.get(\"table\")"
   ]
  },
  {
   "cell_type": "code",
   "execution_count": 0,
   "metadata": {
    "application/vnd.databricks.v1+cell": {
     "cellMetadata": {
      "byteLimit": 2048000,
      "rowLimit": 10000
     },
     "inputWidgets": {},
     "nuid": "b1945acf-bca8-43c6-a240-75314affaceb",
     "showTitle": false,
     "tableResultSettingsMap": {},
     "title": ""
    }
   },
   "outputs": [],
   "source": [
    "# Check which pre-loaded data-sets are available\n",
    "#display(dbutils.fs.ls(\"/databricks-datasets/\"))"
   ]
  },
  {
   "cell_type": "markdown",
   "metadata": {
    "application/vnd.databricks.v1+cell": {
     "cellMetadata": {},
     "inputWidgets": {},
     "nuid": "2c533e22-ae80-47cc-b481-a18aaca9c93c",
     "showTitle": false,
     "tableResultSettingsMap": {},
     "title": ""
    }
   },
   "source": [
    "## Load Sample Dataset to `{catalog}.{database}.{table}`"
   ]
  },
  {
   "cell_type": "code",
   "execution_count": 0,
   "metadata": {
    "application/vnd.databricks.v1+cell": {
     "cellMetadata": {
      "byteLimit": 2048000,
      "rowLimit": 10000
     },
     "inputWidgets": {},
     "nuid": "45084b81-2c84-4bbc-b3a5-3014da304881",
     "showTitle": true,
     "tableResultSettingsMap": {},
     "title": "View the Sample Data raw parquet files"
    }
   },
   "outputs": [],
   "source": [
    "# Amazon Reviews sample data-set\n",
    "display(dbutils.fs.ls(\"/databricks-datasets/amazon/data20K/\"))"
   ]
  },
  {
   "cell_type": "code",
   "execution_count": 0,
   "metadata": {
    "application/vnd.databricks.v1+cell": {
     "cellMetadata": {
      "byteLimit": 2048000,
      "rowLimit": 10000
     },
     "inputWidgets": {},
     "nuid": "8e260b3d-4dff-48fd-a800-735661b5cb3a",
     "showTitle": true,
     "tableResultSettingsMap": {},
     "title": "View the Sample Set Raw Data"
    }
   },
   "outputs": [],
   "source": [
    "df = spark.read.format(\"parquet\").load(\"/databricks-datasets/amazon/data20K/\")\n",
    "display(df.head(5))"
   ]
  },
  {
   "cell_type": "code",
   "execution_count": 0,
   "metadata": {
    "application/vnd.databricks.v1+cell": {
     "cellMetadata": {
      "byteLimit": 2048000,
      "rowLimit": 10000
     },
     "inputWidgets": {},
     "nuid": "5b05b24c-6a6a-4a35-ae6d-a218c16e8fd3",
     "showTitle": true,
     "tableResultSettingsMap": {},
     "title": "Write out Sample Data to a Delta Table"
    }
   },
   "outputs": [],
   "source": [
    "df.write.format(\"delta\").mode(\"overwrite\").saveAsTable(f\"{catalog}.{database}.{table}\")"
   ]
  },
  {
   "cell_type": "code",
   "execution_count": 0,
   "metadata": {
    "application/vnd.databricks.v1+cell": {
     "cellMetadata": {
      "byteLimit": 2048000,
      "implicitDf": true,
      "rowLimit": 10000
     },
     "inputWidgets": {},
     "nuid": "f594b492-6a83-4e62-9e44-24c5aa83c9d7",
     "showTitle": true,
     "tableResultSettingsMap": {},
     "title": "Sample the Delta Feature-Table with a SQL Query"
    }
   },
   "outputs": [],
   "source": [
    "%sql\n",
    "SELECT * FROM $catalog.$database.$table LIMIT 10;"
   ]
  },
  {
   "cell_type": "markdown",
   "metadata": {
    "application/vnd.databricks.v1+cell": {
     "cellMetadata": {
      "byteLimit": 2048000,
      "rowLimit": 10000
     },
     "inputWidgets": {},
     "nuid": "f78ce8ba-e371-4907-95de-1852c41aa974",
     "showTitle": false,
     "tableResultSettingsMap": {},
     "title": ""
    }
   },
   "source": [
    "## Create a Features Table with RowIDs\n",
    "\n",
    "The `review_features` table has a unique ID added for each row.  Use this later for comparing our predicted reviews with the actual Amazon review. "
   ]
  },
  {
   "cell_type": "code",
   "execution_count": 0,
   "metadata": {
    "application/vnd.databricks.v1+cell": {
     "cellMetadata": {
      "byteLimit": 2048000,
      "implicitDf": true,
      "rowLimit": 10000
     },
     "inputWidgets": {},
     "nuid": "43770d01-30c1-4b64-869d-acb539c49eaf",
     "showTitle": true,
     "tableResultSettingsMap": {},
     "title": "Create review_features"
    }
   },
   "outputs": [],
   "source": [
    "%sql\n",
    "CREATE TABLE ${catalog}.${database}.review_features AS\n",
    "SELECT \n",
    "  ROW_NUMBER() OVER (ORDER BY (SELECT NULL)) AS id,\n",
    "  *\n",
    "FROM \n",
    "  ${catalog}.${database}.${table};"
   ]
  },
  {
   "cell_type": "code",
   "execution_count": 0,
   "metadata": {
    "application/vnd.databricks.v1+cell": {
     "cellMetadata": {
      "byteLimit": 2048000,
      "implicitDf": true,
      "rowLimit": 10000
     },
     "inputWidgets": {},
     "nuid": "1ebf4182-ddb1-439d-be21-9d2b3457b23a",
     "showTitle": true,
     "tableResultSettingsMap": {},
     "title": "Select a sample of the review_features data"
    }
   },
   "outputs": [],
   "source": [
    "%sql\n",
    "SELECT * from ${catalog}.${database}.review_features\n",
    "LIMIT 10;"
   ]
  },
  {
   "cell_type": "markdown",
   "metadata": {
    "application/vnd.databricks.v1+cell": {
     "cellMetadata": {},
     "inputWidgets": {},
     "nuid": "e0164028-e598-44ae-8b6b-dfefaefd8a28",
     "showTitle": false,
     "tableResultSettingsMap": {},
     "title": ""
    }
   },
   "source": [
    "# Prompted LLM to Predict Review Scores and Review Categories\n"
   ]
  },
  {
   "cell_type": "markdown",
   "metadata": {
    "application/vnd.databricks.v1+cell": {
     "cellMetadata": {},
     "inputWidgets": {},
     "nuid": "17307dbc-420c-4ec0-bcc1-a95dbccd79b8",
     "showTitle": false,
     "tableResultSettingsMap": {},
     "title": ""
    }
   },
   "source": [
    "### Use `ai_query` with a custom prompt for Few Shot Learning\n",
    "\n",
    "[ai_query](https://learn.microsoft.com/en-gb/azure/databricks/sql/language-manual/functions/ai_query) \n",
    "\n",
    "+ This function is not available on Azure Databricks SQL Classic.\n",
    "+ Databricks Runtime 15.4 or above is recommended. \n",
    "+ Your workspace must be in a supported Model Serving region.\n",
    "+ Needs an existing model serving endpoint with your model loaded. If you are using a Databricks hosted foundation model, an endpoint is created for you. Otherwise, see Create custom model serving endpoints or Create foundation model serving endpoints.\n",
    "+ Querying Foundation Model APIs is enabled by default. To query endpoints that serve custom models or external models, enable AI_Query for Custom Models and External Models in the Databricks Previews UI.\n"
   ]
  },
  {
   "cell_type": "code",
   "execution_count": 0,
   "metadata": {
    "application/vnd.databricks.v1+cell": {
     "cellMetadata": {
      "byteLimit": 2048000,
      "implicitDf": true,
      "rowLimit": 10000
     },
     "inputWidgets": {},
     "nuid": "d38bc92c-a607-458a-a1f3-9a385cc6a26a",
     "showTitle": true,
     "tableResultSettingsMap": {
      "0": {
       "dataGridStateBlob": "{\"version\":1,\"tableState\":{\"columnPinning\":{\"left\":[\"#row_number#\"],\"right\":[]},\"columnSizing\":{\"rating\":90,\"predicted_rating\":120,\"classification\":141,\"review\":378},\"columnVisibility\":{}},\"settings\":{\"columns\":{}},\"syncTimestamp\":1756649153985}",
       "filterBlob": null,
       "queryPlanFiltersBlob": null,
       "tableResultIndex": 0
      }
     },
     "title": "Example SQL - experiment with an in-line LLM Prompt"
    }
   },
   "outputs": [],
   "source": [
    "%sql\n",
    "WITH extracted_opinions_cte AS (\n",
    "  SELECT\n",
    "    id,\n",
    "    review,\n",
    "    rating,\n",
    "    ai_query(\n",
    "      --\"databricks-claude-sonnet-4\",\n",
    "      \"databricks-meta-llama-3-3-70b-instruct\",\n",
    "      request => concat(\n",
    "        \"You are an opinion mining service. Given a piece of text, output a struct with the following fields: classification, sentiment.\n",
    "\n",
    "          For the classification field, categorize the text as one of the following 10 categories:\n",
    "          CLOTHING, BOOKS, MUSIC, MOVIES_TV, ELECTRONICS, TOYS_GAMES, TOOLS_HOME, SPORTS_OUTDOORS, OTHER, UNKNOWN.\n",
    "\n",
    "          - CLOTHING: Apparel, shoes, fashion accessories.\n",
    "          - BOOKS: Any printed or digital book.\n",
    "          - MUSIC: CDs, Vinyls, or music-related products.\n",
    "          - MOVIES_TV: DVDs, Blu-rays, or TV/movies-related content.\n",
    "          - ELECTRONICS: Any gadget, device, or electronic item.\n",
    "          - TOYS_GAMES: Toys, board games, or children's games.\n",
    "          - TOOLS_HOME: Tools, home improvement, kitchenware, furniture.\n",
    "          - SPORTS_OUTDOORS: Gear for sports, fitness, or outdoor activities.\n",
    "          - OTHER: Clearly identified products that don’t fit the above.\n",
    "          - UNKNOWN: If there is not enough context to classify.\n",
    "\n",
    "          The sentiment field is a score from 1 to 5:\n",
    "          - 5 = Very Positive\n",
    "          - 4 = Positive\n",
    "          - 3 = Neutral\n",
    "          - 2 = Negative\n",
    "          - 1 = Very Negative\n",
    "\n",
    "          If you are not confident about the classification, make sure to say it is UNKNOWN; do not guess.  If there is doubt, go for UNKNOWN\n",
    "          Stick to the existing categories, do not add new ones.\n",
    "\n",
    "          Output format must be:\n",
    "          JSON: {'classification': '<CATEGORY>', 'sentiment': <SENTIMENT_SCORE>, 'classification_reason': '<REASON>'}\n",
    "\n",
    "          Return only the JSON result. Do not include the original docoment in the output. Only include the final answer in the JSON format specified.\n",
    "\n",
    "\n",
    "          ### EXAMPLES:\n",
    "\n",
    "          DOCUMENT  \n",
    "          This mouse is amazing, I had owned a Razer Naga, and a R.A.T. 7 mouse. And I am not afraid to say that this mouse takes the cake, for $20 it looks like its worth $80. The only issue i had was that the seller sent me a wireless version, but I don't mind because it works just as well. Also where you see silver on the mouse in reality it is glossy black, and the mouse looks better IRL then in the pictures. I will add on to this review in a month or so to check in.  \n",
    "          RESULT  \n",
    "          {'classification': 'ELECTRONICS', 'sentiment': 5, 'classification_reason': 'The text is about electronics.'}\n",
    "\n",
    "          DOCUMENT  \n",
    "          Fabric is nice and soft but zipper broke the first time we used it. Very disappointing. The fit was fine, so we still use it to get our monies worth  \n",
    "          RESULT  \n",
    "          {'classification': 'CLOTHING', 'sentiment': 2, 'classification_reason': 'The text is about clothing.'}\n",
    "\n",
    "\n",
    "          DOCUMENT  \n",
    "          Worked as expected. I'm not sure what else you expect me to say. I expected no less. Dunno what else to say.  \n",
    "          RESULT  \n",
    "          {'classification': 'UNKNOWN', 'sentiment': 4, 'classification_reason': 'The text is not clear enough to classify.'}\n",
    "\n",
    "          DOCUMENT  \n",
    "          I love this product and the other items that go with it. Bath and Body dropped this scent so I was thrilled to find that I could still purchase it.  \n",
    "          RESULT  \n",
    "          {'classification':'OTHER', 'sentiment': 5, 'classification_reason': 'The text is about perfume which is not one of the categories I am using.'}\n",
    "\n",
    "          ### INCORRECT EXAMPLE:\n",
    "\n",
    "          RESULT\n",
    "          {'classification': 'FURNITURE', 'sentiment': 4, 'classification_reason': 'The text is about furniture, which falls under the category TOOLS_HOME.'} \n",
    "\n",
    "          Corrected response:\n",
    "          {'classification': 'TOOLS_HOME', 'sentiment': 4, 'classification_reason': 'The text is about furniture, which falls under the category TOOLS_HOME.'}\n",
    "\n",
    "          This is wrong because only the Corrected response should be provided.\n",
    "\n",
    "          \",\n",
    "          review\n",
    "      )\n",
    "    ) as extracted_opinions\n",
    "  FROM\n",
    "    ${catalog}.${database}.review_features\n",
    ")\n",
    "SELECT\n",
    "  review,\n",
    "  get_json_object(extracted_opinions, '$.classification') AS classification,\n",
    "  rating,\n",
    "  get_json_object(extracted_opinions, '$.sentiment') AS predicted_rating,\n",
    "  get_json_object(extracted_opinions, '$.classification_reason') AS classification_reason\n",
    "FROM\n",
    "  extracted_opinions_cte\n",
    "LIMIT 10;"
   ]
  },
  {
   "cell_type": "markdown",
   "metadata": {
    "application/vnd.databricks.v1+cell": {
     "cellMetadata": {},
     "inputWidgets": {},
     "nuid": "3c3afc1a-3e2d-4c14-9953-e346becf1970",
     "showTitle": false,
     "tableResultSettingsMap": {},
     "title": ""
    }
   },
   "source": [
    "**The next part takes about 10 minutes to execute**. (process about 20,000 rows of data)"
   ]
  },
  {
   "cell_type": "code",
   "execution_count": 0,
   "metadata": {
    "application/vnd.databricks.v1+cell": {
     "cellMetadata": {
      "byteLimit": 2048000,
      "implicitDf": true,
      "rowLimit": 10000
     },
     "inputWidgets": {},
     "nuid": "4238edf8-ae0e-4faf-bea0-5c94d366028f",
     "showTitle": true,
     "tableResultSettingsMap": {},
     "title": "CTAS to generate review predictions"
    }
   },
   "outputs": [],
   "source": [
    "%sql\n",
    "CREATE TABLE ${catalog}.${database}.review_predictions \n",
    "AS\n",
    "WITH extracted_opinions_cte AS (\n",
    "  SELECT\n",
    "    id,\n",
    "    review,\n",
    "    ai_query(\n",
    "      --\"databricks-claude-sonnet-4\",\n",
    "      \"databricks-meta-llama-3-3-70b-instruct\",\n",
    "      request => concat(\n",
    "        \"You are an opinion mining service. Given a piece of text, output a struct with the following fields: classification, sentiment.\n",
    "\n",
    "          For the classification field, categorize the text as one of the following 10 categories:\n",
    "          CLOTHING, BOOKS, MUSIC, MOVIES_TV, ELECTRONICS, TOYS_GAMES, TOOLS_HOME, SPORTS_OUTDOORS, OTHER, UNKNOWN.\n",
    "\n",
    "          - CLOTHING: Apparel, shoes, fashion accessories.\n",
    "          - BOOKS: Any printed or digital book.\n",
    "          - MUSIC: CDs, Vinyls, or music-related products.\n",
    "          - MOVIES_TV: DVDs, Blu-rays, or TV/movies-related content.\n",
    "          - ELECTRONICS: Any gadget, device, or electronic item.\n",
    "          - TOYS_GAMES: Toys, board games, or children's games.\n",
    "          - TOOLS_HOME: Tools, home improvement, kitchenware, furniture.\n",
    "          - SPORTS_OUTDOORS: Gear for sports, fitness, or outdoor activities.\n",
    "          - OTHER: Clearly identified products that don’t fit the above.\n",
    "          - UNKNOWN: If there is not enough context to classify.\n",
    "\n",
    "          The sentiment field is a score from 1 to 5:\n",
    "          - 5 = Very Positive\n",
    "          - 4 = Positive\n",
    "          - 3 = Neutral\n",
    "          - 2 = Negative\n",
    "          - 1 = Very Negative\n",
    "\n",
    "          If you are not confident about the classification, make sure to say it is UNKNOWN; do not guess.  If there is doubt, go for UNKNOWN\n",
    "          Stick to the existing categories, do not add new ones.\n",
    "\n",
    "          Output format must be:\n",
    "          JSON: {'classification': '<CATEGORY>', 'sentiment': <SENTIMENT_SCORE>, 'classification_reason': '<REASON>'}\n",
    "\n",
    "          Return only the JSON result. Do not include the original docoment in the output. Only include the final answer in the JSON format specified.\n",
    "\n",
    "\n",
    "          ### EXAMPLES:\n",
    "\n",
    "          DOCUMENT  \n",
    "          This mouse is amazing, I had owned a Razer Naga, and a R.A.T. 7 mouse. And I am not afraid to say that this mouse takes the cake, for $20 it looks like its worth $80. The only issue i had was that the seller sent me a wireless version, but I don't mind because it works just as well. Also where you see silver on the mouse in reality it is glossy black, and the mouse looks better IRL then in the pictures. I will add on to this review in a month or so to check in.  \n",
    "          RESULT  \n",
    "          {'classification': 'ELECTRONICS', 'sentiment': 5, 'classification_reason': 'The text is about electronics.'}\n",
    "\n",
    "          DOCUMENT  \n",
    "          Fabric is nice and soft but zipper broke the first time we used it. Very disappointing. The fit was fine, so we still use it to get our monies worth  \n",
    "          RESULT  \n",
    "          {'classification': 'CLOTHING', 'sentiment': 2, 'classification_reason': 'The text is about clothing.'}\n",
    "\n",
    "\n",
    "          DOCUMENT  \n",
    "          Worked as expected. I'm not sure what else you expect me to say. I expected no less. Dunno what else to say.  \n",
    "          RESULT  \n",
    "          {'classification': 'UNKNOWN', 'sentiment': 4, 'classification_reason': 'The text is not clear enough to classify.'}\n",
    "\n",
    "          DOCUMENT  \n",
    "          I love this product and the other items that go with it. Bath and Body dropped this scent so I was thrilled to find that I could still purchase it.  \n",
    "          RESULT  \n",
    "          {'classification':'OTHER', 'sentiment': 5, 'classification_reason': 'The text is about perfume which is not one of the categories I am using.'}\n",
    "\n",
    "          ### INCORRECT EXAMPLE:\n",
    "\n",
    "          RESULT\n",
    "          {'classification': 'FURNITURE', 'sentiment': 4, 'classification_reason': 'The text is about furniture, which falls under the category TOOLS_HOME.'} \n",
    "\n",
    "          Corrected response:\n",
    "          {'classification': 'TOOLS_HOME', 'sentiment': 4, 'classification_reason': 'The text is about furniture, which falls under the category TOOLS_HOME.'}\n",
    "\n",
    "          This is wrong because only the Corrected response should be provided.\n",
    "\n",
    "          \",\n",
    "          review\n",
    "      )\n",
    "    ) as extracted_opinions\n",
    "  FROM\n",
    "    ${catalog}.${database}.review_features\n",
    ")\n",
    "SELECT\n",
    "  id,\n",
    "  review,\n",
    "  get_json_object(extracted_opinions, '$.sentiment') AS rating,\n",
    "  get_json_object(extracted_opinions, '$.classification') AS classification,\n",
    "  get_json_object(extracted_opinions, '$.classification_reason') AS classification_reason\n",
    "FROM\n",
    "  extracted_opinions_cte\n"
   ]
  },
  {
   "cell_type": "code",
   "execution_count": 0,
   "metadata": {
    "application/vnd.databricks.v1+cell": {
     "cellMetadata": {
      "byteLimit": 2048000,
      "implicitDf": true,
      "rowLimit": 10000
     },
     "inputWidgets": {},
     "nuid": "c0c300e8-0936-40f1-a663-b29b8c56e10c",
     "showTitle": true,
     "tableResultSettingsMap": {},
     "title": "Sample of results in table review_predictions"
    }
   },
   "outputs": [],
   "source": [
    "%sql\n",
    "SELECT \n",
    "  p.id, p.review, \n",
    "  p.rating as predicted_rating, \n",
    "  f.rating as actual_rating, \n",
    "  p.classification as predicted_classification,\n",
    "  p.classification_reason as predicted_classification_reason\n",
    "FROM \n",
    "  ${catalog}.${database}.review_predictions p \n",
    "JOIN \n",
    "  ${catalog}.${database}.review_features f \n",
    "  ON f.id = p.id\n",
    "LIMIT 50;"
   ]
  },
  {
   "cell_type": "code",
   "execution_count": 0,
   "metadata": {
    "application/vnd.databricks.v1+cell": {
     "cellMetadata": {
      "byteLimit": 2048000,
      "implicitDf": true,
      "rowLimit": 10000
     },
     "inputWidgets": {},
     "nuid": "6f8a9b4b-0cc5-4a1a-bbb6-c4b686d0ecb0",
     "showTitle": true,
     "tableResultSettingsMap": {},
     "title": "Get a Histogram of Review Prediction Score accuracy compared with Ground Truth"
    }
   },
   "outputs": [
    {
     "output_type": "display_data",
     "data": {
      "text/plain": [
       "Databricks visualization. Run in Databricks to view."
      ]
     },
     "metadata": {
      "application/vnd.databricks.v1.subcommand+json": {
       "baseErrorDetails": null,
       "bindings": {},
       "collapsed": false,
       "command": "%sql WITH q AS (SELECT \n  p.rating - f.rating as diff, \n  COUNT(*) as count,\n  ROUND(100*COUNT(*)/19959) as percent\nFROM \n  users.ed_bullen.review_predictions p \nJOIN \n  users.ed_bullen.review_features f \nON \n  p.id = f.id\nGROUP BY \n  p.rating - f.rating\nORDER BY \n  diff) SELECT `diff`,SUM(`percent`) `column_cce3af5235` FROM q GROUP BY `diff`",
       "commandTitle": "Prediction Variance Histogram",
       "commandType": "auto",
       "commandVersion": 0,
       "commentThread": [],
       "commentsVisible": false,
       "contentSha256Hex": null,
       "customPlotOptions": {
        "redashChart": [
         {
          "key": "type",
          "value": "CHART"
         },
         {
          "key": "options",
          "value": {
           "alignYAxesAtZero": true,
           "coefficient": 1,
           "columnConfigurationMap": {
            "x": {
             "column": "diff",
             "id": "column_cce3af5233"
            },
            "y": [
             {
              "column": "percent",
              "id": "column_cce3af5235",
              "transform": "SUM"
             }
            ]
           },
           "dateTimeFormat": "DD/MM/YYYY HH:mm",
           "direction": {
            "type": "counterclockwise"
           },
           "error_y": {
            "type": "data",
            "visible": true
           },
           "globalSeriesType": "column",
           "isAggregationOn": true,
           "legend": {
            "traceorder": "normal"
           },
           "missingValuesAsZero": true,
           "numberFormat": "0,0.[00000]",
           "percentFormat": "0[.]00%",
           "series": {
            "error_y": {
             "type": "data",
             "visible": true
            },
            "stacking": null
           },
           "seriesOptions": {
            "column_cce3af5235": {
             "type": "column",
             "yAxis": 0
            }
           },
           "showDataLabels": true,
           "sizemode": "diameter",
           "sortX": true,
           "sortY": true,
           "swappedAxes": false,
           "textFormat": "",
           "useAggregationsUi": true,
           "valuesOptions": {},
           "version": 2,
           "xAxis": {
            "labels": {
             "enabled": true
            },
            "title": {
             "text": "Prediction Variance"
            },
            "type": "linear"
           },
           "yAxis": [
            {
             "title": {
              "text": "Percentage"
             },
             "type": "-"
            },
            {
             "opposite": true,
             "type": "-"
            }
           ]
          }
         }
        ]
       },
       "datasetPreviewNameToCmdIdMap": {},
       "diffDeletes": [],
       "diffInserts": [],
       "displayType": "redashChart",
       "error": null,
       "errorDetails": null,
       "errorSummary": null,
       "errorTraceType": null,
       "finishTime": 0,
       "globalVars": {},
       "guid": "",
       "height": "auto",
       "hideCommandCode": false,
       "hideCommandResult": false,
       "iPythonMetadata": null,
       "inputWidgets": {},
       "isLockedInExamMode": false,
       "latestUser": "a user",
       "latestUserId": null,
       "listResultMetadata": null,
       "metadata": {},
       "nuid": "19646c97-bb57-4873-987b-e5ae33438774",
       "origId": 0,
       "parentHierarchy": [],
       "pivotAggregation": null,
       "pivotColumns": null,
       "position": 13.0,
       "resultDbfsErrorMessage": null,
       "resultDbfsStatus": "INLINED_IN_TREE",
       "results": null,
       "showCommandTitle": false,
       "startTime": 0,
       "state": "input",
       "streamStates": {},
       "subcommandOptions": {
        "queryPlan": {
         "groups": [
          {
           "column": "diff",
           "type": "column"
          }
         ],
         "selects": [
          {
           "column": "diff",
           "type": "column"
          },
          {
           "alias": "column_cce3af5235",
           "args": [
            {
             "column": "percent",
             "type": "column"
            }
           ],
           "function": "SUM",
           "type": "function"
          }
         ]
        }
       },
       "submitTime": 0,
       "subtype": "tableResultSubCmd.visualization",
       "tableResultIndex": 0,
       "tableResultSettingsMap": {},
       "useConsistentColors": false,
       "version": "CommandV1",
       "width": "auto",
       "workflows": null,
       "xColumns": null,
       "yColumns": null
      }
     },
     "output_type": "display_data"
    }
   ],
   "source": [
    "%sql\n",
    "SELECT \n",
    "  p.rating - f.rating as diff, \n",
    "  COUNT(*) as count,\n",
    "  ROUND(100*COUNT(*)/19959) as percent -- there are 19959 rows in the dataset\n",
    "FROM \n",
    "  ${catalog}.${database}.review_predictions p \n",
    "JOIN \n",
    "  ${catalog}.${database}.review_features f \n",
    "ON \n",
    "  p.id = f.id\n",
    "GROUP BY \n",
    "  p.rating - f.rating\n",
    "ORDER BY \n",
    "  diff;"
   ]
  },
  {
   "cell_type": "code",
   "execution_count": 0,
   "metadata": {
    "application/vnd.databricks.v1+cell": {
     "cellMetadata": {
      "byteLimit": 2048000,
      "rowLimit": 10000
     },
     "inputWidgets": {},
     "nuid": "e208070f-af6a-44a9-a3ed-9e2cd812f769",
     "showTitle": true,
     "tableResultSettingsMap": {},
     "title": "Get a random sample of the review text and predicted classification"
    }
   },
   "outputs": [],
   "source": [
    "%python\n",
    "# Load the review_predictions table\n",
    "review_predictions_df = spark.table(\"users.ed_bullen.review_predictions\")\n",
    "\n",
    "# Sample 30 rows randomly\n",
    "sampled_df = review_predictions_df.sample(withReplacement=False, fraction=0.1).limit(10)\n",
    "\n",
    "# Display the sampled rows\n",
    "display(sampled_df)"
   ]
  },
  {
   "cell_type": "markdown",
   "metadata": {
    "application/vnd.databricks.v1+cell": {
     "cellMetadata": {},
     "inputWidgets": {},
     "nuid": "dffea5d2-6b08-4d84-a118-74f8a67d0361",
     "showTitle": false,
     "tableResultSettingsMap": {},
     "title": ""
    }
   },
   "source": [
    "## Conclusion\n",
    "\n",
    "Results for `databricks-meta-llama-3-3-70b-instruct`:\n",
    "\n",
    "+ 71% of the predicted ratings have the same rating prediction as was given by the Amazon customer\n",
    "+ 97% are within +/- 1 rating of the Amazon customer\n",
    "\n",
    "\n",
    "Review Classification predictions is lacking ground truths for quantitative evaluation, but appears to be giving sensible results."
   ]
  },
  {
   "cell_type": "code",
   "execution_count": 0,
   "metadata": {
    "application/vnd.databricks.v1+cell": {
     "cellMetadata": {},
     "inputWidgets": {},
     "nuid": "256745d3-f967-4d5c-b65f-0be37dae46a2",
     "showTitle": false,
     "tableResultSettingsMap": {},
     "title": ""
    }
   },
   "outputs": [],
   "source": []
  }
 ],
 "metadata": {
  "application/vnd.databricks.v1+notebook": {
   "computePreferences": {
    "hardware": {
     "accelerator": null,
     "gpuPoolId": null,
     "memory": null
    }
   },
   "dashboards": [],
   "environmentMetadata": {
    "base_environment": "",
    "environment_version": "2"
   },
   "inputWidgetPreferences": null,
   "language": "python",
   "notebookMetadata": {
    "mostRecentlyExecutedCommandWithImplicitDF": {
     "commandId": 3485449910001764,
     "dataframes": [
      "_sqldf"
     ]
    },
    "pythonIndentUnit": 4
   },
   "notebookName": "Amazon Reviews Sentiment",
   "widgets": {
    "catalog": {
     "currentValue": "users",
     "nuid": "b9ad2c95-a9b7-46f8-89c1-71d418d3ebd2",
     "typedWidgetInfo": {
      "autoCreated": false,
      "defaultValue": "users",
      "label": null,
      "name": "catalog",
      "options": {
       "widgetDisplayType": "Text",
       "validationRegex": null
      },
      "parameterDataType": "String"
     },
     "widgetInfo": {
      "widgetType": "text",
      "defaultValue": "users",
      "label": null,
      "name": "catalog",
      "options": {
       "widgetType": "text",
       "autoCreated": null,
       "validationRegex": null
      }
     }
    },
    "database": {
     "currentValue": "ed_bullen",
     "nuid": "192e1f48-247a-42c7-ac9a-06eedddbd099",
     "typedWidgetInfo": {
      "autoCreated": false,
      "defaultValue": "",
      "label": null,
      "name": "database",
      "options": {
       "widgetDisplayType": "Text",
       "validationRegex": null
      },
      "parameterDataType": "String"
     },
     "widgetInfo": {
      "widgetType": "text",
      "defaultValue": "",
      "label": null,
      "name": "database",
      "options": {
       "widgetType": "text",
       "autoCreated": null,
       "validationRegex": null
      }
     }
    },
    "table": {
     "currentValue": "reviews",
     "nuid": "6b413715-5675-4dd9-8b7b-a63f286bb331",
     "typedWidgetInfo": {
      "autoCreated": false,
      "defaultValue": "reviews",
      "label": null,
      "name": "table",
      "options": {
       "widgetDisplayType": "Text",
       "validationRegex": null
      },
      "parameterDataType": "String"
     },
     "widgetInfo": {
      "widgetType": "text",
      "defaultValue": "reviews",
      "label": null,
      "name": "table",
      "options": {
       "widgetType": "text",
       "autoCreated": null,
       "validationRegex": null
      }
     }
    }
   }
  },
  "language_info": {
   "name": "python"
  }
 },
 "nbformat": 4,
 "nbformat_minor": 0
}
